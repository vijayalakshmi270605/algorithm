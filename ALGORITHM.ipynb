{
 "cells": [
  {
   "cell_type": "code",
   "execution_count": 5,
   "id": "4a056c0e",
   "metadata": {},
   "outputs": [
    {
     "name": "stdout",
     "output_type": "stream",
     "text": [
      "enter mark 1:99\n",
      "enter mark 2:97\n",
      "enter mark 3:99\n",
      "enter mark 4:90\n",
      "enter mark 5:88\n",
      "enter mark 6:90\n",
      "enter mark 7:98\n",
      "enter mark 8:99\n",
      "enter mark 9:100\n",
      "enter mark 10:99\n"
     ]
    }
   ],
   "source": [
    "#acquiring data \n",
    "marks=[]\n",
    "for m in range(1,11):\n",
    "    marks.append(int(input(f\"enter mark {m}:\")))"
   ]
  },
  {
   "cell_type": "code",
   "execution_count": 8,
   "id": "008e133e",
   "metadata": {},
   "outputs": [
    {
     "data": {
      "text/plain": [
       "95.9"
      ]
     },
     "execution_count": 8,
     "metadata": {},
     "output_type": "execute_result"
    }
   ],
   "source": [
    "avg=sum(marks)/10\n",
    "avg"
   ]
  },
  {
   "cell_type": "code",
   "execution_count": 9,
   "id": "f6a5f57e",
   "metadata": {},
   "outputs": [
    {
     "name": "stdout",
     "output_type": "stream",
     "text": [
      "you are pass\n"
     ]
    }
   ],
   "source": [
    "if avg>40:\n",
    "    print(\"you are pass\")\n",
    "else:\n",
    "    print(\"you are fail\")"
   ]
  },
  {
   "cell_type": "code",
   "execution_count": null,
   "id": "7ab6c6b1",
   "metadata": {},
   "outputs": [],
   "source": []
  }
 ],
 "metadata": {
  "kernelspec": {
   "display_name": "Python 3 (ipykernel)",
   "language": "python",
   "name": "python3"
  },
  "language_info": {
   "codemirror_mode": {
    "name": "ipython",
    "version": 3
   },
   "file_extension": ".py",
   "mimetype": "text/x-python",
   "name": "python",
   "nbconvert_exporter": "python",
   "pygments_lexer": "ipython3",
   "version": "3.9.17"
  }
 },
 "nbformat": 4,
 "nbformat_minor": 5
}
